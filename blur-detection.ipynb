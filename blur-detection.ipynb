{
 "cells": [
  {
   "cell_type": "code",
   "execution_count": 1,
   "id": "83151caf",
   "metadata": {
    "_cell_guid": "b1076dfc-b9ad-4769-8c92-a6c4dae69d19",
    "_uuid": "8f2839f25d086af736a60e9eeb907d3b93b6e0e5",
    "execution": {
     "iopub.execute_input": "2023-10-12T08:37:43.388545Z",
     "iopub.status.busy": "2023-10-12T08:37:43.387054Z",
     "iopub.status.idle": "2023-10-12T08:37:47.687750Z",
     "shell.execute_reply": "2023-10-12T08:37:47.687205Z",
     "shell.execute_reply.started": "2023-08-16T05:12:38.518905Z"
    },
    "papermill": {
     "duration": 4.322757,
     "end_time": "2023-10-12T08:37:47.687939",
     "exception": false,
     "start_time": "2023-10-12T08:37:43.365182",
     "status": "completed"
    },
    "tags": []
   },
   "outputs": [],
   "source": [
    "import tensorflow as tf\n",
    "assert float(tf.__version__[:3]) >= 2.3\n",
    "\n",
    "import os\n",
    "import numpy as np\n",
    "import matplotlib.pyplot as plt\n",
    "import random\n",
    "import shutil"
   ]
  },
  {
   "cell_type": "code",
   "execution_count": 2,
   "id": "4a021fc7",
   "metadata": {
    "execution": {
     "iopub.execute_input": "2023-10-12T08:37:47.727006Z",
     "iopub.status.busy": "2023-10-12T08:37:47.726267Z",
     "iopub.status.idle": "2023-10-12T08:37:47.729399Z",
     "shell.execute_reply": "2023-10-12T08:37:47.729031Z",
     "shell.execute_reply.started": "2023-08-16T05:12:43.563998Z"
    },
    "papermill": {
     "duration": 0.023319,
     "end_time": "2023-10-12T08:37:47.729502",
     "exception": false,
     "start_time": "2023-10-12T08:37:47.706183",
     "status": "completed"
    },
    "tags": []
   },
   "outputs": [],
   "source": [
    "os.mkdir(\"/kaggle/train\")\n",
    "os.mkdir(\"/kaggle/test\")\n",
    "\n",
    "os.mkdir(\"/kaggle/train/blurImage\")\n",
    "os.mkdir(\"/kaggle/train/sharpImage\")\n",
    "\n",
    "os.mkdir(\"/kaggle/test/blurImage\")\n",
    "os.mkdir(\"/kaggle/test/sharpImage\")"
   ]
  },
  {
   "cell_type": "code",
   "execution_count": 3,
   "id": "39bd9cf5",
   "metadata": {
    "execution": {
     "iopub.execute_input": "2023-10-12T08:37:47.766364Z",
     "iopub.status.busy": "2023-10-12T08:37:47.765570Z",
     "iopub.status.idle": "2023-10-12T08:37:48.112290Z",
     "shell.execute_reply": "2023-10-12T08:37:48.112672Z",
     "shell.execute_reply.started": "2023-08-16T05:12:43.574078Z"
    },
    "papermill": {
     "duration": 0.367408,
     "end_time": "2023-10-12T08:37:48.112856",
     "exception": false,
     "start_time": "2023-10-12T08:37:47.745448",
     "status": "completed"
    },
    "tags": []
   },
   "outputs": [
    {
     "name": "stdout",
     "output_type": "stream",
     "text": [
      "500\n",
      "100\n"
     ]
    }
   ],
   "source": [
    "path = \"/kaggle/input/blur-dataset\"\n",
    "listImage = []\n",
    "\n",
    "for i in os.listdir(path):\n",
    "    \n",
    "    if i==\"sharp\" or i==\"blur_dataset_scaled\":\n",
    "        \n",
    "        continue\n",
    "        \n",
    "    for j in os.listdir(path+\"/\"+i):\n",
    "        \n",
    "        \n",
    "        try:\n",
    "        \n",
    "            if j.split(\".\")[1]!=\"JPG\" and j.split(\".\")[1]!=\"jpg\" and j.split(\".\")[1]!=\"jpeg\":\n",
    "\n",
    "                pass\n",
    "        except:\n",
    "            \n",
    "            pass\n",
    "        \n",
    "        listImage.append(path+\"/\"+i+\"/\"+j)\n",
    "        \n",
    "\n",
    "random.shuffle(listImage)\n",
    "train_blur = listImage[0:500]\n",
    "test_blur = listImage[600:]\n",
    "\n",
    "print(len(train_blur))\n",
    "print(len(test_blur))"
   ]
  },
  {
   "cell_type": "code",
   "execution_count": 4,
   "id": "8937aa69",
   "metadata": {
    "execution": {
     "iopub.execute_input": "2023-10-12T08:37:48.150956Z",
     "iopub.status.busy": "2023-10-12T08:37:48.150184Z",
     "iopub.status.idle": "2023-10-12T08:37:55.897926Z",
     "shell.execute_reply": "2023-10-12T08:37:55.897339Z",
     "shell.execute_reply.started": "2023-08-16T05:12:43.906517Z"
    },
    "papermill": {
     "duration": 7.768601,
     "end_time": "2023-10-12T08:37:55.898059",
     "exception": false,
     "start_time": "2023-10-12T08:37:48.129458",
     "status": "completed"
    },
    "tags": []
   },
   "outputs": [],
   "source": [
    "for i in train_blur:\n",
    "    \n",
    "    image_name = i.split(\"/\")\n",
    "    image_name = image_name[len(image_name)-1]\n",
    "    \n",
    "    try:\n",
    "        \n",
    "        shutil.copyfile(i, \"/kaggle/train/blurImage/\"+image_name)\n",
    "        \n",
    "    except:\n",
    "        \n",
    "        pass"
   ]
  },
  {
   "cell_type": "code",
   "execution_count": 5,
   "id": "1c94a2e7",
   "metadata": {
    "execution": {
     "iopub.execute_input": "2023-10-12T08:37:55.935336Z",
     "iopub.status.busy": "2023-10-12T08:37:55.934559Z",
     "iopub.status.idle": "2023-10-12T08:37:55.940306Z",
     "shell.execute_reply": "2023-10-12T08:37:55.940678Z",
     "shell.execute_reply.started": "2023-08-16T05:12:54.207622Z"
    },
    "papermill": {
     "duration": 0.026056,
     "end_time": "2023-10-12T08:37:55.940846",
     "exception": false,
     "start_time": "2023-10-12T08:37:55.914790",
     "status": "completed"
    },
    "tags": []
   },
   "outputs": [
    {
     "data": {
      "text/plain": [
       "500"
      ]
     },
     "execution_count": 5,
     "metadata": {},
     "output_type": "execute_result"
    }
   ],
   "source": [
    "len(os.listdir(\"/kaggle/train/blurImage/\"))"
   ]
  },
  {
   "cell_type": "code",
   "execution_count": 6,
   "id": "0c0f656b",
   "metadata": {
    "execution": {
     "iopub.execute_input": "2023-10-12T08:37:55.978984Z",
     "iopub.status.busy": "2023-10-12T08:37:55.977807Z",
     "iopub.status.idle": "2023-10-12T08:37:57.744833Z",
     "shell.execute_reply": "2023-10-12T08:37:57.744344Z",
     "shell.execute_reply.started": "2023-08-16T05:12:54.221199Z"
    },
    "papermill": {
     "duration": 1.78735,
     "end_time": "2023-10-12T08:37:57.744972",
     "exception": false,
     "start_time": "2023-10-12T08:37:55.957622",
     "status": "completed"
    },
    "tags": []
   },
   "outputs": [],
   "source": [
    "for i in test_blur:\n",
    "    \n",
    "    image_name = i.split(\"/\")\n",
    "    image_name = image_name[len(image_name)-1]\n",
    "\n",
    "        \n",
    "    shutil.copyfile(i, \"/kaggle/test/blurImage/\"+image_name)"
   ]
  },
  {
   "cell_type": "code",
   "execution_count": 7,
   "id": "f62dba23",
   "metadata": {
    "execution": {
     "iopub.execute_input": "2023-10-12T08:37:57.785241Z",
     "iopub.status.busy": "2023-10-12T08:37:57.784092Z",
     "iopub.status.idle": "2023-10-12T08:37:57.788295Z",
     "shell.execute_reply": "2023-10-12T08:37:57.788620Z",
     "shell.execute_reply.started": "2023-08-16T05:12:55.918873Z"
    },
    "papermill": {
     "duration": 0.026549,
     "end_time": "2023-10-12T08:37:57.788743",
     "exception": false,
     "start_time": "2023-10-12T08:37:57.762194",
     "status": "completed"
    },
    "tags": []
   },
   "outputs": [
    {
     "data": {
      "text/plain": [
       "100"
      ]
     },
     "execution_count": 7,
     "metadata": {},
     "output_type": "execute_result"
    }
   ],
   "source": [
    "len(os.listdir(\"/kaggle/test/blurImage/\"))"
   ]
  },
  {
   "cell_type": "code",
   "execution_count": 8,
   "id": "ab96fc72",
   "metadata": {
    "execution": {
     "iopub.execute_input": "2023-10-12T08:37:57.827900Z",
     "iopub.status.busy": "2023-10-12T08:37:57.827294Z",
     "iopub.status.idle": "2023-10-12T08:37:58.015859Z",
     "shell.execute_reply": "2023-10-12T08:37:58.017450Z",
     "shell.execute_reply.started": "2023-08-16T05:12:55.930132Z"
    },
    "papermill": {
     "duration": 0.21226,
     "end_time": "2023-10-12T08:37:58.017704",
     "exception": false,
     "start_time": "2023-10-12T08:37:57.805444",
     "status": "completed"
    },
    "tags": []
   },
   "outputs": [
    {
     "name": "stdout",
     "output_type": "stream",
     "text": [
      "300\n",
      "50\n"
     ]
    }
   ],
   "source": [
    "path = \"/kaggle/input/blur-dataset\"\n",
    "listImage = []\n",
    "\n",
    "for i in os.listdir(path):\n",
    "    \n",
    "    if i!=\"sharp\":\n",
    "        \n",
    "        continue\n",
    "    \n",
    "    for j in os.listdir(path+\"/\"+i):\n",
    "\n",
    "        \n",
    "        try:\n",
    "        \n",
    "            if j.split(\".\")[1]!=\"JPG\" and j.split(\".\")[1]!=\"jpg\" and j.split(\".\")[1]!=\"jpeg\":\n",
    "\n",
    "                pass\n",
    "        except:\n",
    "            \n",
    "            pass\n",
    "        \n",
    "        listImage.append(path+\"/\"+i+\"/\"+j)\n",
    "        \n",
    "\n",
    "random.shuffle(listImage)\n",
    "train_sharp = listImage[0:300]\n",
    "test_sharp = listImage[300:]\n",
    "print(len(train_sharp))\n",
    "print(len(test_sharp))\n"
   ]
  },
  {
   "cell_type": "code",
   "execution_count": 9,
   "id": "c8240b56",
   "metadata": {
    "execution": {
     "iopub.execute_input": "2023-10-12T08:37:58.116950Z",
     "iopub.status.busy": "2023-10-12T08:37:58.116395Z",
     "iopub.status.idle": "2023-10-12T08:38:03.593282Z",
     "shell.execute_reply": "2023-10-12T08:38:03.594626Z",
     "shell.execute_reply.started": "2023-08-16T05:12:56.127988Z"
    },
    "papermill": {
     "duration": 5.523922,
     "end_time": "2023-10-12T08:38:03.594909",
     "exception": false,
     "start_time": "2023-10-12T08:37:58.070987",
     "status": "completed"
    },
    "tags": []
   },
   "outputs": [],
   "source": [
    "for i in train_sharp:\n",
    "    \n",
    "    image_name = i.split(\"/\")\n",
    "    image_name = image_name[len(image_name)-1]\n",
    "    \n",
    "    try:\n",
    "        \n",
    "        shutil.copyfile(i, \"/kaggle/train/sharpImage/\"+image_name)\n",
    "\n",
    "        \n",
    "    except:\n",
    "        \n",
    "        pass"
   ]
  },
  {
   "cell_type": "code",
   "execution_count": 10,
   "id": "1864b74a",
   "metadata": {
    "execution": {
     "iopub.execute_input": "2023-10-12T08:38:03.699209Z",
     "iopub.status.busy": "2023-10-12T08:38:03.697772Z",
     "iopub.status.idle": "2023-10-12T08:38:03.701853Z",
     "shell.execute_reply": "2023-10-12T08:38:03.702205Z",
     "shell.execute_reply.started": "2023-08-16T05:13:01.652073Z"
    },
    "papermill": {
     "duration": 0.054118,
     "end_time": "2023-10-12T08:38:03.702337",
     "exception": false,
     "start_time": "2023-10-12T08:38:03.648219",
     "status": "completed"
    },
    "tags": []
   },
   "outputs": [
    {
     "data": {
      "text/plain": [
       "300"
      ]
     },
     "execution_count": 10,
     "metadata": {},
     "output_type": "execute_result"
    }
   ],
   "source": [
    "len(os.listdir(\"/kaggle/train/sharpImage/\"))"
   ]
  },
  {
   "cell_type": "code",
   "execution_count": 11,
   "id": "d1c99991",
   "metadata": {
    "execution": {
     "iopub.execute_input": "2023-10-12T08:38:03.748933Z",
     "iopub.status.busy": "2023-10-12T08:38:03.748242Z",
     "iopub.status.idle": "2023-10-12T08:38:04.739049Z",
     "shell.execute_reply": "2023-10-12T08:38:04.739641Z",
     "shell.execute_reply.started": "2023-08-16T05:13:01.660395Z"
    },
    "papermill": {
     "duration": 1.015553,
     "end_time": "2023-10-12T08:38:04.739965",
     "exception": false,
     "start_time": "2023-10-12T08:38:03.724412",
     "status": "completed"
    },
    "tags": []
   },
   "outputs": [],
   "source": [
    "for i in test_sharp:\n",
    "    \n",
    "    image_name = i.split(\"/\")\n",
    "    image_name = image_name[len(image_name)-1]\n",
    "    \n",
    "    try:\n",
    "        \n",
    "        shutil.copyfile(i, \"/kaggle/test/sharpImage/\"+image_name)\n",
    "        \n",
    "    except:\n",
    "        \n",
    "        pass"
   ]
  },
  {
   "cell_type": "code",
   "execution_count": 12,
   "id": "b8d695e8",
   "metadata": {
    "execution": {
     "iopub.execute_input": "2023-10-12T08:38:04.937976Z",
     "iopub.status.busy": "2023-10-12T08:38:04.937132Z",
     "iopub.status.idle": "2023-10-12T08:38:04.940479Z",
     "shell.execute_reply": "2023-10-12T08:38:04.938629Z",
     "shell.execute_reply.started": "2023-08-16T05:13:02.840897Z"
    },
    "papermill": {
     "duration": 0.0946,
     "end_time": "2023-10-12T08:38:04.940634",
     "exception": false,
     "start_time": "2023-10-12T08:38:04.846034",
     "status": "completed"
    },
    "tags": []
   },
   "outputs": [
    {
     "data": {
      "text/plain": [
       "50"
      ]
     },
     "execution_count": 12,
     "metadata": {},
     "output_type": "execute_result"
    }
   ],
   "source": [
    "len(os.listdir(\"/kaggle/test/sharpImage/\"))"
   ]
  },
  {
   "cell_type": "code",
   "execution_count": 13,
   "id": "7e653d12",
   "metadata": {
    "execution": {
     "iopub.execute_input": "2023-10-12T08:38:05.012924Z",
     "iopub.status.busy": "2023-10-12T08:38:05.012199Z",
     "iopub.status.idle": "2023-10-12T08:38:06.368020Z",
     "shell.execute_reply": "2023-10-12T08:38:06.368545Z",
     "shell.execute_reply.started": "2023-08-16T05:13:02.852879Z"
    },
    "papermill": {
     "duration": 1.395514,
     "end_time": "2023-10-12T08:38:06.368697",
     "exception": false,
     "start_time": "2023-10-12T08:38:04.973183",
     "status": "completed"
    },
    "tags": []
   },
   "outputs": [
    {
     "name": "stdout",
     "output_type": "stream",
     "text": [
      "Found 640 images belonging to 2 classes.\n",
      "Found 30 images belonging to 2 classes.\n"
     ]
    }
   ],
   "source": [
    "IMAGE_SIZE = 600\n",
    "BATCH_SIZE = 32\n",
    "path = \"/kaggle\"\n",
    "\n",
    "datagen = tf.keras.preprocessing.image.ImageDataGenerator(\n",
    "#     rescale=1./255, \n",
    "    validation_split=0.2)\n",
    "\n",
    "train_generator = datagen.flow_from_directory(\n",
    "    path+\"/train\",\n",
    "    target_size=(IMAGE_SIZE, IMAGE_SIZE),\n",
    "    batch_size=BATCH_SIZE, \n",
    "    subset='training')\n",
    "\n",
    "val_generator = datagen.flow_from_directory(\n",
    "    path+\"/test\",\n",
    "    target_size=(IMAGE_SIZE, IMAGE_SIZE),\n",
    "    batch_size=BATCH_SIZE, \n",
    "    subset='validation')"
   ]
  },
  {
   "cell_type": "code",
   "execution_count": 14,
   "id": "2d86608d",
   "metadata": {
    "execution": {
     "iopub.execute_input": "2023-10-12T08:38:06.410627Z",
     "iopub.status.busy": "2023-10-12T08:38:06.410098Z",
     "iopub.status.idle": "2023-10-12T08:38:07.725243Z",
     "shell.execute_reply": "2023-10-12T08:38:07.725583Z",
     "shell.execute_reply.started": "2023-08-16T05:13:04.136432Z"
    },
    "papermill": {
     "duration": 1.33757,
     "end_time": "2023-10-12T08:38:07.725730",
     "exception": false,
     "start_time": "2023-10-12T08:38:06.388160",
     "status": "completed"
    },
    "tags": []
   },
   "outputs": [
    {
     "data": {
      "text/plain": [
       "((30, 600, 600, 3), (30, 2))"
      ]
     },
     "execution_count": 14,
     "metadata": {},
     "output_type": "execute_result"
    }
   ],
   "source": [
    "image_batch, label_batch = next(val_generator)\n",
    "image_batch.shape, label_batch.shape"
   ]
  },
  {
   "cell_type": "code",
   "execution_count": 15,
   "id": "c3e7dac8",
   "metadata": {
    "execution": {
     "iopub.execute_input": "2023-10-12T08:38:07.769391Z",
     "iopub.status.busy": "2023-10-12T08:38:07.768916Z",
     "iopub.status.idle": "2023-10-12T08:38:13.761096Z",
     "shell.execute_reply": "2023-10-12T08:38:13.761530Z",
     "shell.execute_reply.started": "2023-08-16T05:13:05.517826Z"
    },
    "papermill": {
     "duration": 6.017235,
     "end_time": "2023-10-12T08:38:13.761679",
     "exception": false,
     "start_time": "2023-10-12T08:38:07.744444",
     "status": "completed"
    },
    "tags": []
   },
   "outputs": [
    {
     "name": "stdout",
     "output_type": "stream",
     "text": [
      "Downloading data from https://storage.googleapis.com/tensorflow/keras-applications/mobilenet_v3/weights_mobilenet_v3_large_224_1.0_float_no_top.h5\n",
      "17612800/17605208 [==============================] - 2s 0us/step\n",
      "17620992/17605208 [==============================] - 2s 0us/step\n"
     ]
    }
   ],
   "source": [
    "IMG_SHAPE = (IMAGE_SIZE, IMAGE_SIZE, 3)\n",
    "\n",
    "# Create the base model from the pre-trained MobileNet V2\n",
    "# base_model = tf.keras.applications.MobileNetV2(input_shape=IMG_SHAPE,\n",
    "#                                               include_top=False, \n",
    "#                                               weights='imagenet')\n",
    "base_model = tf.keras.applications.MobileNetV3Large(input_shape=IMG_SHAPE, include_top=False, weights='imagenet')\n",
    "base_model.trainable = False\n",
    "# model = base_model"
   ]
  },
  {
   "cell_type": "code",
   "execution_count": 16,
   "id": "75d749fa",
   "metadata": {
    "execution": {
     "iopub.execute_input": "2023-10-12T08:38:13.821311Z",
     "iopub.status.busy": "2023-10-12T08:38:13.820520Z",
     "iopub.status.idle": "2023-10-12T08:38:14.235286Z",
     "shell.execute_reply": "2023-10-12T08:38:14.234820Z",
     "shell.execute_reply.started": "2023-08-16T05:13:10.256352Z"
    },
    "papermill": {
     "duration": 0.447806,
     "end_time": "2023-10-12T08:38:14.235414",
     "exception": false,
     "start_time": "2023-10-12T08:38:13.787608",
     "status": "completed"
    },
    "tags": []
   },
   "outputs": [],
   "source": [
    "model = tf.keras.Sequential([\n",
    "  base_model,\n",
    "  tf.keras.layers.Conv2D(filters=32, kernel_size=3, activation='relu', padding=\"SAME\"),\n",
    "  tf.keras.layers.Dropout(0.2),\n",
    "  tf.keras.layers.GlobalAveragePooling2D(),\n",
    "  tf.keras.layers.Dense(units=2, activation='softmax')\n",
    "])\n",
    "# x = base_model.output\n",
    "# x = tf.keras.layers.Conv2D(filters=64, kernel_size=3, activation='relu', padding='same')(x)\n",
    "# x = tf.keras.layers.Dropout(0.2)(x)\n",
    "# x = tf.keras.layers.GlobalAveragePooling2D()(x)\n",
    "# predictions = tf.keras.layers.Dense(units=2, activation='softmax')(x)\n",
    "\n",
    "# # # Create the new model\n",
    "# model = tf.keras.Model(inputs=base_model.input, outputs=predictions)"
   ]
  },
  {
   "cell_type": "code",
   "execution_count": 17,
   "id": "bf879252",
   "metadata": {
    "execution": {
     "iopub.execute_input": "2023-10-12T08:38:14.291193Z",
     "iopub.status.busy": "2023-10-12T08:38:14.290441Z",
     "iopub.status.idle": "2023-10-12T08:38:14.301385Z",
     "shell.execute_reply": "2023-10-12T08:38:14.300985Z",
     "shell.execute_reply.started": "2023-08-16T05:13:10.814644Z"
    },
    "papermill": {
     "duration": 0.040622,
     "end_time": "2023-10-12T08:38:14.301490",
     "exception": false,
     "start_time": "2023-10-12T08:38:14.260868",
     "status": "completed"
    },
    "tags": []
   },
   "outputs": [],
   "source": [
    "model.compile(optimizer='adam', \n",
    "              loss='categorical_crossentropy', \n",
    "              metrics=['accuracy'])"
   ]
  },
  {
   "cell_type": "code",
   "execution_count": 18,
   "id": "d1a3fecf",
   "metadata": {
    "execution": {
     "iopub.execute_input": "2023-10-12T08:38:14.363790Z",
     "iopub.status.busy": "2023-10-12T08:38:14.362749Z",
     "iopub.status.idle": "2023-10-12T08:38:14.367507Z",
     "shell.execute_reply": "2023-10-12T08:38:14.367134Z",
     "shell.execute_reply.started": "2023-08-16T05:13:11.918420Z"
    },
    "papermill": {
     "duration": 0.04106,
     "end_time": "2023-10-12T08:38:14.367616",
     "exception": false,
     "start_time": "2023-10-12T08:38:14.326556",
     "status": "completed"
    },
    "tags": []
   },
   "outputs": [
    {
     "name": "stdout",
     "output_type": "stream",
     "text": [
      "Model: \"sequential\"\n",
      "_________________________________________________________________\n",
      "Layer (type)                 Output Shape              Param #   \n",
      "=================================================================\n",
      "MobilenetV3large (Functional (None, 1, 1, 1280)        4226432   \n",
      "_________________________________________________________________\n",
      "conv2d (Conv2D)              (None, 1, 1, 32)          368672    \n",
      "_________________________________________________________________\n",
      "dropout (Dropout)            (None, 1, 1, 32)          0         \n",
      "_________________________________________________________________\n",
      "global_average_pooling2d_1 ( (None, 32)                0         \n",
      "_________________________________________________________________\n",
      "dense (Dense)                (None, 2)                 66        \n",
      "=================================================================\n",
      "Total params: 4,595,170\n",
      "Trainable params: 368,738\n",
      "Non-trainable params: 4,226,432\n",
      "_________________________________________________________________\n"
     ]
    }
   ],
   "source": [
    "model.summary()"
   ]
  },
  {
   "cell_type": "code",
   "execution_count": 19,
   "id": "4dabf249",
   "metadata": {
    "execution": {
     "iopub.execute_input": "2023-10-12T08:38:14.421976Z",
     "iopub.status.busy": "2023-10-12T08:38:14.421382Z",
     "iopub.status.idle": "2023-10-12T08:38:14.424137Z",
     "shell.execute_reply": "2023-10-12T08:38:14.424516Z",
     "shell.execute_reply.started": "2023-08-16T05:13:11.945308Z"
    },
    "papermill": {
     "duration": 0.031916,
     "end_time": "2023-10-12T08:38:14.424639",
     "exception": false,
     "start_time": "2023-10-12T08:38:14.392723",
     "status": "completed"
    },
    "tags": []
   },
   "outputs": [
    {
     "name": "stdout",
     "output_type": "stream",
     "text": [
      "Number of trainable weights = 4\n"
     ]
    }
   ],
   "source": [
    "print('Number of trainable weights = {}'.format(len(model.trainable_weights)))"
   ]
  },
  {
   "cell_type": "code",
   "execution_count": 20,
   "id": "bebc7fb5",
   "metadata": {
    "execution": {
     "iopub.execute_input": "2023-10-12T08:38:14.482116Z",
     "iopub.status.busy": "2023-10-12T08:38:14.481341Z",
     "iopub.status.idle": "2023-10-12T08:41:41.058431Z",
     "shell.execute_reply": "2023-10-12T08:41:41.058959Z",
     "shell.execute_reply.started": "2023-08-16T05:13:11.951974Z"
    },
    "papermill": {
     "duration": 206.608819,
     "end_time": "2023-10-12T08:41:41.059158",
     "exception": false,
     "start_time": "2023-10-12T08:38:14.450339",
     "status": "completed"
    },
    "tags": []
   },
   "outputs": [
    {
     "name": "stdout",
     "output_type": "stream",
     "text": [
      "Epoch 1/5\n",
      "20/20 [==============================] - 49s 2s/step - loss: 0.2222 - accuracy: 0.9172 - val_loss: 0.1448 - val_accuracy: 0.9667\n",
      "Epoch 2/5\n",
      "20/20 [==============================] - 37s 2s/step - loss: 0.0467 - accuracy: 0.9906 - val_loss: 0.1265 - val_accuracy: 0.9667\n",
      "Epoch 3/5\n",
      "20/20 [==============================] - 37s 2s/step - loss: 0.0249 - accuracy: 0.9953 - val_loss: 0.1410 - val_accuracy: 0.9667\n",
      "Epoch 4/5\n",
      "20/20 [==============================] - 37s 2s/step - loss: 0.0109 - accuracy: 1.0000 - val_loss: 0.1361 - val_accuracy: 0.9333\n",
      "Epoch 5/5\n",
      "20/20 [==============================] - 37s 2s/step - loss: 0.0071 - accuracy: 1.0000 - val_loss: 0.1276 - val_accuracy: 0.9667\n"
     ]
    }
   ],
   "source": [
    "history = model.fit(train_generator,\n",
    "                    steps_per_epoch=len(train_generator), \n",
    "                    epochs=5,\n",
    "                    validation_data=val_generator,\n",
    "                    validation_steps=len(val_generator))"
   ]
  },
  {
   "cell_type": "code",
   "execution_count": 21,
   "id": "42cc4742",
   "metadata": {
    "execution": {
     "iopub.execute_input": "2023-10-12T08:41:41.171943Z",
     "iopub.status.busy": "2023-10-12T08:41:41.171185Z",
     "iopub.status.idle": "2023-10-12T08:41:41.498333Z",
     "shell.execute_reply": "2023-10-12T08:41:41.498712Z",
     "shell.execute_reply.started": "2023-08-16T05:16:32.522858Z"
    },
    "papermill": {
     "duration": 0.388635,
     "end_time": "2023-10-12T08:41:41.498872",
     "exception": false,
     "start_time": "2023-10-12T08:41:41.110237",
     "status": "completed"
    },
    "tags": []
   },
   "outputs": [
    {
     "data": {
      "image/png": "[encoded data removed]",
      "text/plain": [
       "<Figure size 576x576 with 2 Axes>"
      ]
     },
     "metadata": {
      "needs_background": "light"
     },
     "output_type": "display_data"
    }
   ],
   "source": [
    "acc = history.history['accuracy']\n",
    "val_acc = history.history['val_accuracy']\n",
    "\n",
    "loss = history.history['loss']\n",
    "val_loss = history.history['val_loss']\n",
    "\n",
    "plt.figure(figsize=(8, 8))\n",
    "plt.subplot(2, 1, 1)\n",
    "plt.plot(acc, label='Training Accuracy')\n",
    "plt.plot(val_acc, label='Validation Accuracy')\n",
    "plt.legend(loc='lower right')\n",
    "plt.ylabel('Accuracy')\n",
    "plt.ylim([min(plt.ylim()),1])\n",
    "plt.title('Training and Validation Accuracy')\n",
    "\n",
    "plt.subplot(2, 1, 2)\n",
    "plt.plot(loss, label='Training Loss')\n",
    "plt.plot(val_loss, label='Validation Loss')\n",
    "plt.legend(loc='upper right')\n",
    "plt.ylabel('Cross Entropy')\n",
    "plt.ylim([0,1.0])\n",
    "plt.title('Training and Validation Loss')\n",
    "plt.xlabel('epoch')\n",
    "plt.show()"
   ]
  },
  {
   "cell_type": "code",
   "execution_count": 22,
   "id": "b3496f12",
   "metadata": {
    "execution": {
     "iopub.execute_input": "2023-10-12T08:41:41.608466Z",
     "iopub.status.busy": "2023-10-12T08:41:41.607631Z",
     "iopub.status.idle": "2023-10-12T08:42:11.046219Z",
     "shell.execute_reply": "2023-10-12T08:42:11.045694Z",
     "shell.execute_reply.started": "2023-08-16T05:16:32.901771Z"
    },
    "papermill": {
     "duration": 29.495169,
     "end_time": "2023-10-12T08:42:11.046358",
     "exception": false,
     "start_time": "2023-10-12T08:41:41.551189",
     "status": "completed"
    },
    "tags": []
   },
   "outputs": [
    {
     "name": "stderr",
     "output_type": "stream",
     "text": [
      "/opt/conda/lib/python3.7/site-packages/keras/utils/generic_utils.py:497: CustomMaskWarning: Custom mask layers require a config and must override get_config. When loading, the custom mask layer must be passed to the custom_objects argument.\n",
      "  category=CustomMaskWarning)\n"
     ]
    }
   ],
   "source": [
    "converter = tf.lite.TFLiteConverter.from_keras_model(model)\n",
    "# converter.optimizations = [tf.lite.Optimize.DEFAULT]\n",
    "tflite_model = converter.convert()\n",
    "\n",
    "with open('mobilenet_v3.tflite', 'wb') as f:\n",
    "  f.write(tflite_model)"
   ]
  },
  {
   "cell_type": "code",
   "execution_count": 23,
   "id": "7d7aed1f",
   "metadata": {
    "execution": {
     "iopub.execute_input": "2023-10-12T08:42:11.158369Z",
     "iopub.status.busy": "2023-10-12T08:42:11.157213Z",
     "iopub.status.idle": "2023-10-12T08:42:12.643836Z",
     "shell.execute_reply": "2023-10-12T08:42:12.644266Z",
     "shell.execute_reply.started": "2023-08-16T05:17:09.368932Z"
    },
    "papermill": {
     "duration": 1.543095,
     "end_time": "2023-10-12T08:42:12.644460",
     "exception": false,
     "start_time": "2023-10-12T08:42:11.101365",
     "status": "completed"
    },
    "tags": []
   },
   "outputs": [
    {
     "data": {
      "text/plain": [
       "(32, 600, 600, 3)"
      ]
     },
     "execution_count": 23,
     "metadata": {},
     "output_type": "execute_result"
    }
   ],
   "source": [
    "train_generator[0][0].shape"
   ]
  },
  {
   "cell_type": "code",
   "execution_count": 24,
   "id": "b4dd5fb9",
   "metadata": {
    "execution": {
     "iopub.execute_input": "2023-10-12T08:42:12.757053Z",
     "iopub.status.busy": "2023-10-12T08:42:12.756305Z",
     "iopub.status.idle": "2023-10-12T08:42:15.779299Z",
     "shell.execute_reply": "2023-10-12T08:42:15.778654Z",
     "shell.execute_reply.started": "2023-08-16T05:17:10.924099Z"
    },
    "papermill": {
     "duration": 3.080838,
     "end_time": "2023-10-12T08:42:15.779441",
     "exception": false,
     "start_time": "2023-10-12T08:42:12.698603",
     "status": "completed"
    },
    "tags": []
   },
   "outputs": [],
   "source": [
    "sn = model.predict(train_generator[11][0])"
   ]
  },
  {
   "cell_type": "code",
   "execution_count": 25,
   "id": "cfaf15e9",
   "metadata": {
    "execution": {
     "iopub.execute_input": "2023-10-12T08:42:15.895746Z",
     "iopub.status.busy": "2023-10-12T08:42:15.894556Z",
     "iopub.status.idle": "2023-10-12T08:42:17.614218Z",
     "shell.execute_reply": "2023-10-12T08:42:17.614612Z",
     "shell.execute_reply.started": "2023-08-16T05:17:13.839568Z"
    },
    "papermill": {
     "duration": 1.776998,
     "end_time": "2023-10-12T08:42:17.614774",
     "exception": false,
     "start_time": "2023-10-12T08:42:15.837776",
     "status": "completed"
    },
    "tags": []
   },
   "outputs": [
    {
     "data": {
      "image/png": "[encoded data removed]",
      "text/plain": [
       "<Figure size 432x288 with 1 Axes>"
      ]
     },
     "metadata": {
      "needs_background": "light"
     },
     "output_type": "display_data"
    },
    {
     "name": "stdout",
     "output_type": "stream",
     "text": [
      "Label : blur\n"
     ]
    }
   ],
   "source": [
    "count = 5\n",
    "plt.imshow(train_generator[11][0][count])\n",
    "plt.show()\n",
    "\n",
    "if sn[count][0]> sn[count][1]:\n",
    "    \n",
    "    print(\"Label : blur\")\n",
    "    \n",
    "else:\n",
    "    \n",
    "    print(\"Label : sharp\")"
   ]
  },
  {
   "cell_type": "code",
   "execution_count": 26,
   "id": "9c5eec2c",
   "metadata": {
    "execution": {
     "iopub.execute_input": "2023-10-12T08:42:17.732528Z",
     "iopub.status.busy": "2023-10-12T08:42:17.731325Z",
     "iopub.status.idle": "2023-10-12T08:42:19.444199Z",
     "shell.execute_reply": "2023-10-12T08:42:19.444601Z",
     "shell.execute_reply.started": "2023-08-16T05:17:15.553989Z"
    },
    "papermill": {
     "duration": 1.774381,
     "end_time": "2023-10-12T08:42:19.444749",
     "exception": false,
     "start_time": "2023-10-12T08:42:17.670368",
     "status": "completed"
    },
    "tags": []
   },
   "outputs": [
    {
     "data": {
      "image/png": "[encoded data removed]",
      "text/plain": [
       "<Figure size 432x288 with 1 Axes>"
      ]
     },
     "metadata": {
      "needs_background": "light"
     },
     "output_type": "display_data"
    },
    {
     "name": "stdout",
     "output_type": "stream",
     "text": [
      "Label : blur\n"
     ]
    }
   ],
   "source": [
    "count = 0\n",
    "plt.imshow(train_generator[11][0][count])\n",
    "plt.show()\n",
    "\n",
    "if sn[count][0]> sn[count][1]:\n",
    "    \n",
    "    print(\"Label : blur\")\n",
    "    \n",
    "else:\n",
    "    \n",
    "    print(\"Label : sharp\")"
   ]
  }
 ],
 "metadata": {
  "kernelspec": {
   "display_name": "Python 3",
   "language": "python",
   "name": "python3"
  },
  "language_info": {
   "codemirror_mode": {
    "name": "ipython",
    "version": 3
   },
   "file_extension": ".py",
   "mimetype": "text/x-python",
   "name": "python",
   "nbconvert_exporter": "python",
   "pygments_lexer": "ipython3",
   "version": "3.7.12"
  },
  "papermill": {
   "default_parameters": {},
   "duration": 286.138012,
   "end_time": "2023-10-12T08:42:22.408336",
   "environment_variables": {},
   "exception": null,
   "input_path": "__notebook__.ipynb",
   "output_path": "__notebook__.ipynb",
   "parameters": {},
   "start_time": "2023-10-12T08:37:36.270324",
   "version": "2.3.3"
  }
 },
 "nbformat": 4,
 "nbformat_minor": 5
}
